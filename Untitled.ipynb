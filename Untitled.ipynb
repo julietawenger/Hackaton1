{
 "cells": [
  {
   "cell_type": "markdown",
   "id": "4e37c66d",
   "metadata": {},
   "source": [
    "# Users Analysis"
   ]
  },
  {
   "cell_type": "code",
   "execution_count": 24,
   "id": "adea277f",
   "metadata": {},
   "outputs": [],
   "source": [
    "import numpy as np\n",
    "import matplotlib.pyplot as plt\n",
    "import seaborn as sns\n",
    "sns.set_theme()\n",
    "import pandas as pd\n",
    "import ast"
   ]
  },
  {
   "cell_type": "code",
   "execution_count": 25,
   "id": "18b9b465",
   "metadata": {},
   "outputs": [],
   "source": [
    "users = pd.read_csv(r'users.csv')\n",
    "user_df = pd.DataFrame(users)"
   ]
  },
  {
   "cell_type": "code",
   "execution_count": 26,
   "id": "96584b89",
   "metadata": {},
   "outputs": [],
   "source": [
    "def book_hist_to_df(user_df, target_user_ID):\n",
    "    \"\"\"This function takes a row from the users database and returns the users reading history in a DataFrame.\"\"\"    \n",
    "    book_ratings = []\n",
    "    for book in ast.literal_eval(user_df.iloc[target_user_ID][\"book_history\"]):\n",
    "            book_ratings.append({\"user_id\": target_user_ID, \"book\": book[\"book\"], \"rating\": book[\"rating\"]})\n",
    "    return pd.DataFrame(book_ratings)"
   ]
  },
  {
   "cell_type": "code",
   "execution_count": 27,
   "id": "ccb003a2",
   "metadata": {},
   "outputs": [
    {
     "data": {
      "text/html": [
       "<div>\n",
       "<style scoped>\n",
       "    .dataframe tbody tr th:only-of-type {\n",
       "        vertical-align: middle;\n",
       "    }\n",
       "\n",
       "    .dataframe tbody tr th {\n",
       "        vertical-align: top;\n",
       "    }\n",
       "\n",
       "    .dataframe thead th {\n",
       "        text-align: right;\n",
       "    }\n",
       "</style>\n",
       "<table border=\"1\" class=\"dataframe\">\n",
       "  <thead>\n",
       "    <tr style=\"text-align: right;\">\n",
       "      <th></th>\n",
       "      <th>user_id</th>\n",
       "      <th>book</th>\n",
       "      <th>rating</th>\n",
       "    </tr>\n",
       "  </thead>\n",
       "  <tbody>\n",
       "    <tr>\n",
       "      <th>0</th>\n",
       "      <td>50</td>\n",
       "      <td>The Easy 5-Ingredient Ketogenic Diet Cookbook:...</td>\n",
       "      <td>4.3</td>\n",
       "    </tr>\n",
       "    <tr>\n",
       "      <th>1</th>\n",
       "      <td>50</td>\n",
       "      <td>Magnolia Table</td>\n",
       "      <td>5.0</td>\n",
       "    </tr>\n",
       "    <tr>\n",
       "      <th>2</th>\n",
       "      <td>50</td>\n",
       "      <td>The Complete Mediterranean Cookbook: 500 Vibra...</td>\n",
       "      <td>4.6</td>\n",
       "    </tr>\n",
       "    <tr>\n",
       "      <th>3</th>\n",
       "      <td>50</td>\n",
       "      <td>The Complete Mediterranean Cookbook Gift Editi...</td>\n",
       "      <td>4.8</td>\n",
       "    </tr>\n",
       "    <tr>\n",
       "      <th>4</th>\n",
       "      <td>50</td>\n",
       "      <td>From Crook to Cook: Platinum Recipes from Tha ...</td>\n",
       "      <td>4.9</td>\n",
       "    </tr>\n",
       "    <tr>\n",
       "      <th>5</th>\n",
       "      <td>50</td>\n",
       "      <td>Instant Pot Pressure Cooker Cookbook: 500 Ever...</td>\n",
       "      <td>4.5</td>\n",
       "    </tr>\n",
       "    <tr>\n",
       "      <th>6</th>\n",
       "      <td>50</td>\n",
       "      <td>Magnolia Table, Volume 2: A Collection of Reci...</td>\n",
       "      <td>4.9</td>\n",
       "    </tr>\n",
       "    <tr>\n",
       "      <th>7</th>\n",
       "      <td>50</td>\n",
       "      <td>Southern Keto: 100+ Traditional Food Favorites...</td>\n",
       "      <td>4.8</td>\n",
       "    </tr>\n",
       "    <tr>\n",
       "      <th>8</th>\n",
       "      <td>50</td>\n",
       "      <td>The Ultimate Instant Pot cookbook: Foolproof, ...</td>\n",
       "      <td>4.4</td>\n",
       "    </tr>\n",
       "  </tbody>\n",
       "</table>\n",
       "</div>"
      ],
      "text/plain": [
       "   user_id                                               book  rating\n",
       "0       50  The Easy 5-Ingredient Ketogenic Diet Cookbook:...     4.3\n",
       "1       50                                     Magnolia Table     5.0\n",
       "2       50  The Complete Mediterranean Cookbook: 500 Vibra...     4.6\n",
       "3       50  The Complete Mediterranean Cookbook Gift Editi...     4.8\n",
       "4       50  From Crook to Cook: Platinum Recipes from Tha ...     4.9\n",
       "5       50  Instant Pot Pressure Cooker Cookbook: 500 Ever...     4.5\n",
       "6       50  Magnolia Table, Volume 2: A Collection of Reci...     4.9\n",
       "7       50  Southern Keto: 100+ Traditional Food Favorites...     4.8\n",
       "8       50  The Ultimate Instant Pot cookbook: Foolproof, ...     4.4"
      ]
     },
     "execution_count": 27,
     "metadata": {},
     "output_type": "execute_result"
    }
   ],
   "source": [
    "book_hist_to_df(user_df,50)"
   ]
  },
  {
   "cell_type": "code",
   "execution_count": null,
   "id": "6ff93ad2",
   "metadata": {},
   "outputs": [],
   "source": []
  }
 ],
 "metadata": {
  "kernelspec": {
   "display_name": "Python 3",
   "language": "python",
   "name": "python3"
  },
  "language_info": {
   "codemirror_mode": {
    "name": "ipython",
    "version": 3
   },
   "file_extension": ".py",
   "mimetype": "text/x-python",
   "name": "python",
   "nbconvert_exporter": "python",
   "pygments_lexer": "ipython3",
   "version": "3.7.11"
  }
 },
 "nbformat": 4,
 "nbformat_minor": 5
}
